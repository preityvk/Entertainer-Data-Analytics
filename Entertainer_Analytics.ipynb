{
  "nbformat": 4,
  "nbformat_minor": 0,
  "metadata": {
    "colab": {
      "provenance": []
    },
    "kernelspec": {
      "name": "python3",
      "display_name": "Python 3"
    },
    "language_info": {
      "name": "python"
    }
  },
  "cells": [
    {
      "cell_type": "markdown",
      "source": [
        "## **Importing Libraries**"
      ],
      "metadata": {
        "id": "Gq-1LRuxcIWP"
      }
    },
    {
      "cell_type": "code",
      "execution_count": 1,
      "metadata": {
        "id": "tEGXYPJlXeeo"
      },
      "outputs": [],
      "source": [
        "import numpy as np\n",
        "import pandas as pd\n",
        "import matplotlib.pyplot as plt\n",
        "import seaborn as sns"
      ]
    },
    {
      "cell_type": "markdown",
      "source": [
        "## **Reading Datasets**"
      ],
      "metadata": {
        "id": "KVoxWF4QchYW"
      }
    },
    {
      "cell_type": "code",
      "source": [
        "entertainer_data = pd.read_excel('/content/Entertainer - Basic Info.xlsx')\n",
        "breakthrough_data = pd.read_excel('/content/Entertainer - Breakthrough Info.xlsx')\n",
        "last_major_work_data = pd.read_excel('/content/Entertainer - Last work Info.xlsx')"
      ],
      "metadata": {
        "id": "3nvDD5xJcq-c"
      },
      "execution_count": 2,
      "outputs": []
    },
    {
      "cell_type": "code",
      "source": [
        "# Convert data to dataframes\n",
        "entertainer_df = pd.DataFrame(entertainer_data)\n",
        "breakthrough_df = pd.DataFrame(breakthrough_data)\n",
        "last_major_work_df = pd.DataFrame(last_major_work_data)\n",
        "\n",
        "#Transform\n",
        "merged_df = pd.merge(entertainer_df, breakthrough_df, on='Entertainer')\n",
        "merged_df = pd.merge(merged_df, last_major_work_df, on='Entertainer')\n",
        "\n",
        "# Display the transformed data\n",
        "print(merged_df)"
      ],
      "metadata": {
        "colab": {
          "base_uri": "https://localhost:8080/",
          "height": 0
        },
        "id": "lrHCwApJelbc",
        "outputId": "b4d7d17c-7b7b-4e3b-fe0a-7e4332caabe3"
      },
      "execution_count": 3,
      "outputs": [
        {
          "output_type": "stream",
          "name": "stdout",
          "text": [
            "        Entertainer Gender (traditional)  Birth Year  \\\n",
            "0             Adele                    F        1988   \n",
            "1    Angelina Jolie                    F        1975   \n",
            "2   Aretha Franklin                    F        1942   \n",
            "3       Bette Davis                    F        1908   \n",
            "4       Betty White                    F        1922   \n",
            "..              ...                  ...         ...   \n",
            "65        Tom Hanks                    M        1956   \n",
            "66     Tony Bennett                    M        1926   \n",
            "67     Wayne Newton                    M        1942   \n",
            "68       Will Smith                    M        1968   \n",
            "69    Willie Nelson                    M        1933   \n",
            "\n",
            "    Year of Breakthrough/#1 Hit/Award Nomination  \\\n",
            "0                                           2008   \n",
            "1                                           1999   \n",
            "2                                           1967   \n",
            "3                                           1934   \n",
            "4                                           1952   \n",
            "..                                           ...   \n",
            "65                                          1984   \n",
            "66                                          1951   \n",
            "67                                          1972   \n",
            "68                                          1990   \n",
            "69                                          1975   \n",
            "\n",
            "                           Breakthrough Name  Year of First Oscar/Grammy/Emmy  \\\n",
            "0                                         19                           2009.0   \n",
            "1                          Girl, Interrupted                           1999.0   \n",
            "2   I Never Loved a Man (The Way I Love You)                           1968.0   \n",
            "3                           Of Human Bondage                           1935.0   \n",
            "4                       Life with Elilzabeth                           1976.0   \n",
            "..                                       ...                              ...   \n",
            "65                                    Splash                           1993.0   \n",
            "66                            Because of You                           1963.0   \n",
            "67             Daddy, Don't You Walk So Fast                              NaN   \n",
            "68               The Fresh Prince of Bel-Air                           1988.0   \n",
            "69                       Red Headed Stranger                           1976.0   \n",
            "\n",
            "    Year of Last Major Work (arguable)  Year of Death  \n",
            "0                                 2016            NaN  \n",
            "1                                 2016            NaN  \n",
            "2                                 2014            NaN  \n",
            "3                                 1989         1989.0  \n",
            "4                                 2016            NaN  \n",
            "..                                 ...            ...  \n",
            "65                                2016            NaN  \n",
            "66                                2016            NaN  \n",
            "67                                2016            NaN  \n",
            "68                                2016            NaN  \n",
            "69                                2016            NaN  \n",
            "\n",
            "[70 rows x 8 columns]\n"
          ]
        }
      ]
    },
    {
      "cell_type": "markdown",
      "source": [
        "## **Getting information about datasets**"
      ],
      "metadata": {
        "id": "gFYh99N7fVSE"
      }
    },
    {
      "cell_type": "code",
      "source": [
        "df=merged_df"
      ],
      "metadata": {
        "id": "hi8Ku7m0fRUZ"
      },
      "execution_count": 4,
      "outputs": []
    },
    {
      "cell_type": "code",
      "source": [
        "#shape of dataset\n",
        "df.shape"
      ],
      "metadata": {
        "colab": {
          "base_uri": "https://localhost:8080/",
          "height": 0
        },
        "id": "JJ1D2_WEfmtF",
        "outputId": "e7fd5c6a-9b00-40d7-fb58-a14900160763"
      },
      "execution_count": 5,
      "outputs": [
        {
          "output_type": "execute_result",
          "data": {
            "text/plain": [
              "(70, 8)"
            ]
          },
          "metadata": {},
          "execution_count": 5
        }
      ]
    },
    {
      "cell_type": "code",
      "source": [
        "#Finding unique columns\n",
        "df.columns"
      ],
      "metadata": {
        "colab": {
          "base_uri": "https://localhost:8080/",
          "height": 0
        },
        "id": "IXVRcAdAfrMP",
        "outputId": "ee3ae29b-0b0d-41b8-af4a-79c3a989abbf"
      },
      "execution_count": 6,
      "outputs": [
        {
          "output_type": "execute_result",
          "data": {
            "text/plain": [
              "Index(['Entertainer', 'Gender (traditional)', 'Birth Year',\n",
              "       'Year of Breakthrough/#1 Hit/Award Nomination', 'Breakthrough Name',\n",
              "       'Year of First Oscar/Grammy/Emmy', 'Year of Last Major Work (arguable)',\n",
              "       'Year of Death'],\n",
              "      dtype='object')"
            ]
          },
          "metadata": {},
          "execution_count": 6
        }
      ]
    },
    {
      "cell_type": "code",
      "source": [
        "#Size of dataset\n",
        "df.size"
      ],
      "metadata": {
        "colab": {
          "base_uri": "https://localhost:8080/",
          "height": 0
        },
        "id": "TrPlX5hBfuyZ",
        "outputId": "2cf15b90-e68c-4789-96ac-b370bb8adcd2"
      },
      "execution_count": 7,
      "outputs": [
        {
          "output_type": "execute_result",
          "data": {
            "text/plain": [
              "560"
            ]
          },
          "metadata": {},
          "execution_count": 7
        }
      ]
    },
    {
      "cell_type": "code",
      "source": [
        "#information about dataset\n",
        "df.info()"
      ],
      "metadata": {
        "colab": {
          "base_uri": "https://localhost:8080/",
          "height": 0
        },
        "id": "tCLwB7UIfzHH",
        "outputId": "f2dc1c3d-0194-46cf-a3fb-a80c953dcd22"
      },
      "execution_count": 8,
      "outputs": [
        {
          "output_type": "stream",
          "name": "stdout",
          "text": [
            "<class 'pandas.core.frame.DataFrame'>\n",
            "Int64Index: 70 entries, 0 to 69\n",
            "Data columns (total 8 columns):\n",
            " #   Column                                        Non-Null Count  Dtype  \n",
            "---  ------                                        --------------  -----  \n",
            " 0   Entertainer                                   70 non-null     object \n",
            " 1   Gender (traditional)                          70 non-null     object \n",
            " 2   Birth Year                                    70 non-null     int64  \n",
            " 3   Year of Breakthrough/#1 Hit/Award Nomination  70 non-null     int64  \n",
            " 4   Breakthrough Name                             70 non-null     object \n",
            " 5   Year of First Oscar/Grammy/Emmy               64 non-null     float64\n",
            " 6   Year of Last Major Work (arguable)            70 non-null     int64  \n",
            " 7   Year of Death                                 30 non-null     float64\n",
            "dtypes: float64(2), int64(3), object(3)\n",
            "memory usage: 4.9+ KB\n"
          ]
        }
      ]
    },
    {
      "cell_type": "code",
      "source": [
        "#Descriptive statistics\n",
        "df.describe()"
      ],
      "metadata": {
        "colab": {
          "base_uri": "https://localhost:8080/",
          "height": 318
        },
        "id": "nu2Sjj3lf5wY",
        "outputId": "e4a55b0f-1440-450b-8b1e-35141b543659"
      },
      "execution_count": 9,
      "outputs": [
        {
          "output_type": "execute_result",
          "data": {
            "text/plain": [
              "        Birth Year  Year of Breakthrough/#1 Hit/Award Nomination  \\\n",
              "count    70.000000                                     70.000000   \n",
              "mean   1935.585714                                   1964.228571   \n",
              "std      24.135783                                     22.411935   \n",
              "min    1889.000000                                   1915.000000   \n",
              "25%    1916.000000                                   1949.500000   \n",
              "50%    1935.500000                                   1963.500000   \n",
              "75%    1954.000000                                   1983.500000   \n",
              "max    1988.000000                                   2008.000000   \n",
              "\n",
              "       Year of First Oscar/Grammy/Emmy  Year of Last Major Work (arguable)  \\\n",
              "count                        64.000000                           70.000000   \n",
              "mean                       1976.234375                         1998.971429   \n",
              "std                          22.170152                           22.874561   \n",
              "min                        1929.000000                         1933.000000   \n",
              "25%                        1962.000000                         1980.000000   \n",
              "50%                        1978.000000                         2014.000000   \n",
              "75%                        1993.000000                         2016.000000   \n",
              "max                        2017.000000                         2016.000000   \n",
              "\n",
              "       Year of Death  \n",
              "count      30.000000  \n",
              "mean     1988.133333  \n",
              "std        20.483355  \n",
              "min      1942.000000  \n",
              "25%      1977.000000  \n",
              "50%      1989.500000  \n",
              "75%      2003.750000  \n",
              "max      2016.000000  "
            ],
            "text/html": [
              "\n",
              "  <div id=\"df-a2387ab6-e675-43c2-a2cf-75ab411aa786\" class=\"colab-df-container\">\n",
              "    <div>\n",
              "<style scoped>\n",
              "    .dataframe tbody tr th:only-of-type {\n",
              "        vertical-align: middle;\n",
              "    }\n",
              "\n",
              "    .dataframe tbody tr th {\n",
              "        vertical-align: top;\n",
              "    }\n",
              "\n",
              "    .dataframe thead th {\n",
              "        text-align: right;\n",
              "    }\n",
              "</style>\n",
              "<table border=\"1\" class=\"dataframe\">\n",
              "  <thead>\n",
              "    <tr style=\"text-align: right;\">\n",
              "      <th></th>\n",
              "      <th>Birth Year</th>\n",
              "      <th>Year of Breakthrough/#1 Hit/Award Nomination</th>\n",
              "      <th>Year of First Oscar/Grammy/Emmy</th>\n",
              "      <th>Year of Last Major Work (arguable)</th>\n",
              "      <th>Year of Death</th>\n",
              "    </tr>\n",
              "  </thead>\n",
              "  <tbody>\n",
              "    <tr>\n",
              "      <th>count</th>\n",
              "      <td>70.000000</td>\n",
              "      <td>70.000000</td>\n",
              "      <td>64.000000</td>\n",
              "      <td>70.000000</td>\n",
              "      <td>30.000000</td>\n",
              "    </tr>\n",
              "    <tr>\n",
              "      <th>mean</th>\n",
              "      <td>1935.585714</td>\n",
              "      <td>1964.228571</td>\n",
              "      <td>1976.234375</td>\n",
              "      <td>1998.971429</td>\n",
              "      <td>1988.133333</td>\n",
              "    </tr>\n",
              "    <tr>\n",
              "      <th>std</th>\n",
              "      <td>24.135783</td>\n",
              "      <td>22.411935</td>\n",
              "      <td>22.170152</td>\n",
              "      <td>22.874561</td>\n",
              "      <td>20.483355</td>\n",
              "    </tr>\n",
              "    <tr>\n",
              "      <th>min</th>\n",
              "      <td>1889.000000</td>\n",
              "      <td>1915.000000</td>\n",
              "      <td>1929.000000</td>\n",
              "      <td>1933.000000</td>\n",
              "      <td>1942.000000</td>\n",
              "    </tr>\n",
              "    <tr>\n",
              "      <th>25%</th>\n",
              "      <td>1916.000000</td>\n",
              "      <td>1949.500000</td>\n",
              "      <td>1962.000000</td>\n",
              "      <td>1980.000000</td>\n",
              "      <td>1977.000000</td>\n",
              "    </tr>\n",
              "    <tr>\n",
              "      <th>50%</th>\n",
              "      <td>1935.500000</td>\n",
              "      <td>1963.500000</td>\n",
              "      <td>1978.000000</td>\n",
              "      <td>2014.000000</td>\n",
              "      <td>1989.500000</td>\n",
              "    </tr>\n",
              "    <tr>\n",
              "      <th>75%</th>\n",
              "      <td>1954.000000</td>\n",
              "      <td>1983.500000</td>\n",
              "      <td>1993.000000</td>\n",
              "      <td>2016.000000</td>\n",
              "      <td>2003.750000</td>\n",
              "    </tr>\n",
              "    <tr>\n",
              "      <th>max</th>\n",
              "      <td>1988.000000</td>\n",
              "      <td>2008.000000</td>\n",
              "      <td>2017.000000</td>\n",
              "      <td>2016.000000</td>\n",
              "      <td>2016.000000</td>\n",
              "    </tr>\n",
              "  </tbody>\n",
              "</table>\n",
              "</div>\n",
              "    <div class=\"colab-df-buttons\">\n",
              "\n",
              "  <div class=\"colab-df-container\">\n",
              "    <button class=\"colab-df-convert\" onclick=\"convertToInteractive('df-a2387ab6-e675-43c2-a2cf-75ab411aa786')\"\n",
              "            title=\"Convert this dataframe to an interactive table.\"\n",
              "            style=\"display:none;\">\n",
              "\n",
              "  <svg xmlns=\"http://www.w3.org/2000/svg\" height=\"24px\" viewBox=\"0 -960 960 960\">\n",
              "    <path d=\"M120-120v-720h720v720H120Zm60-500h600v-160H180v160Zm220 220h160v-160H400v160Zm0 220h160v-160H400v160ZM180-400h160v-160H180v160Zm440 0h160v-160H620v160ZM180-180h160v-160H180v160Zm440 0h160v-160H620v160Z\"/>\n",
              "  </svg>\n",
              "    </button>\n",
              "\n",
              "  <style>\n",
              "    .colab-df-container {\n",
              "      display:flex;\n",
              "      gap: 12px;\n",
              "    }\n",
              "\n",
              "    .colab-df-convert {\n",
              "      background-color: #E8F0FE;\n",
              "      border: none;\n",
              "      border-radius: 50%;\n",
              "      cursor: pointer;\n",
              "      display: none;\n",
              "      fill: #1967D2;\n",
              "      height: 32px;\n",
              "      padding: 0 0 0 0;\n",
              "      width: 32px;\n",
              "    }\n",
              "\n",
              "    .colab-df-convert:hover {\n",
              "      background-color: #E2EBFA;\n",
              "      box-shadow: 0px 1px 2px rgba(60, 64, 67, 0.3), 0px 1px 3px 1px rgba(60, 64, 67, 0.15);\n",
              "      fill: #174EA6;\n",
              "    }\n",
              "\n",
              "    .colab-df-buttons div {\n",
              "      margin-bottom: 4px;\n",
              "    }\n",
              "\n",
              "    [theme=dark] .colab-df-convert {\n",
              "      background-color: #3B4455;\n",
              "      fill: #D2E3FC;\n",
              "    }\n",
              "\n",
              "    [theme=dark] .colab-df-convert:hover {\n",
              "      background-color: #434B5C;\n",
              "      box-shadow: 0px 1px 3px 1px rgba(0, 0, 0, 0.15);\n",
              "      filter: drop-shadow(0px 1px 2px rgba(0, 0, 0, 0.3));\n",
              "      fill: #FFFFFF;\n",
              "    }\n",
              "  </style>\n",
              "\n",
              "    <script>\n",
              "      const buttonEl =\n",
              "        document.querySelector('#df-a2387ab6-e675-43c2-a2cf-75ab411aa786 button.colab-df-convert');\n",
              "      buttonEl.style.display =\n",
              "        google.colab.kernel.accessAllowed ? 'block' : 'none';\n",
              "\n",
              "      async function convertToInteractive(key) {\n",
              "        const element = document.querySelector('#df-a2387ab6-e675-43c2-a2cf-75ab411aa786');\n",
              "        const dataTable =\n",
              "          await google.colab.kernel.invokeFunction('convertToInteractive',\n",
              "                                                    [key], {});\n",
              "        if (!dataTable) return;\n",
              "\n",
              "        const docLinkHtml = 'Like what you see? Visit the ' +\n",
              "          '<a target=\"_blank\" href=https://colab.research.google.com/notebooks/data_table.ipynb>data table notebook</a>'\n",
              "          + ' to learn more about interactive tables.';\n",
              "        element.innerHTML = '';\n",
              "        dataTable['output_type'] = 'display_data';\n",
              "        await google.colab.output.renderOutput(dataTable, element);\n",
              "        const docLink = document.createElement('div');\n",
              "        docLink.innerHTML = docLinkHtml;\n",
              "        element.appendChild(docLink);\n",
              "      }\n",
              "    </script>\n",
              "  </div>\n",
              "\n",
              "\n",
              "<div id=\"df-0fb65e1e-2883-4865-b2c1-d227cd69f4c3\">\n",
              "  <button class=\"colab-df-quickchart\" onclick=\"quickchart('df-0fb65e1e-2883-4865-b2c1-d227cd69f4c3')\"\n",
              "            title=\"Suggest charts\"\n",
              "            style=\"display:none;\">\n",
              "\n",
              "<svg xmlns=\"http://www.w3.org/2000/svg\" height=\"24px\"viewBox=\"0 0 24 24\"\n",
              "     width=\"24px\">\n",
              "    <g>\n",
              "        <path d=\"M19 3H5c-1.1 0-2 .9-2 2v14c0 1.1.9 2 2 2h14c1.1 0 2-.9 2-2V5c0-1.1-.9-2-2-2zM9 17H7v-7h2v7zm4 0h-2V7h2v10zm4 0h-2v-4h2v4z\"/>\n",
              "    </g>\n",
              "</svg>\n",
              "  </button>\n",
              "\n",
              "<style>\n",
              "  .colab-df-quickchart {\n",
              "      --bg-color: #E8F0FE;\n",
              "      --fill-color: #1967D2;\n",
              "      --hover-bg-color: #E2EBFA;\n",
              "      --hover-fill-color: #174EA6;\n",
              "      --disabled-fill-color: #AAA;\n",
              "      --disabled-bg-color: #DDD;\n",
              "  }\n",
              "\n",
              "  [theme=dark] .colab-df-quickchart {\n",
              "      --bg-color: #3B4455;\n",
              "      --fill-color: #D2E3FC;\n",
              "      --hover-bg-color: #434B5C;\n",
              "      --hover-fill-color: #FFFFFF;\n",
              "      --disabled-bg-color: #3B4455;\n",
              "      --disabled-fill-color: #666;\n",
              "  }\n",
              "\n",
              "  .colab-df-quickchart {\n",
              "    background-color: var(--bg-color);\n",
              "    border: none;\n",
              "    border-radius: 50%;\n",
              "    cursor: pointer;\n",
              "    display: none;\n",
              "    fill: var(--fill-color);\n",
              "    height: 32px;\n",
              "    padding: 0;\n",
              "    width: 32px;\n",
              "  }\n",
              "\n",
              "  .colab-df-quickchart:hover {\n",
              "    background-color: var(--hover-bg-color);\n",
              "    box-shadow: 0 1px 2px rgba(60, 64, 67, 0.3), 0 1px 3px 1px rgba(60, 64, 67, 0.15);\n",
              "    fill: var(--button-hover-fill-color);\n",
              "  }\n",
              "\n",
              "  .colab-df-quickchart-complete:disabled,\n",
              "  .colab-df-quickchart-complete:disabled:hover {\n",
              "    background-color: var(--disabled-bg-color);\n",
              "    fill: var(--disabled-fill-color);\n",
              "    box-shadow: none;\n",
              "  }\n",
              "\n",
              "  .colab-df-spinner {\n",
              "    border: 2px solid var(--fill-color);\n",
              "    border-color: transparent;\n",
              "    border-bottom-color: var(--fill-color);\n",
              "    animation:\n",
              "      spin 1s steps(1) infinite;\n",
              "  }\n",
              "\n",
              "  @keyframes spin {\n",
              "    0% {\n",
              "      border-color: transparent;\n",
              "      border-bottom-color: var(--fill-color);\n",
              "      border-left-color: var(--fill-color);\n",
              "    }\n",
              "    20% {\n",
              "      border-color: transparent;\n",
              "      border-left-color: var(--fill-color);\n",
              "      border-top-color: var(--fill-color);\n",
              "    }\n",
              "    30% {\n",
              "      border-color: transparent;\n",
              "      border-left-color: var(--fill-color);\n",
              "      border-top-color: var(--fill-color);\n",
              "      border-right-color: var(--fill-color);\n",
              "    }\n",
              "    40% {\n",
              "      border-color: transparent;\n",
              "      border-right-color: var(--fill-color);\n",
              "      border-top-color: var(--fill-color);\n",
              "    }\n",
              "    60% {\n",
              "      border-color: transparent;\n",
              "      border-right-color: var(--fill-color);\n",
              "    }\n",
              "    80% {\n",
              "      border-color: transparent;\n",
              "      border-right-color: var(--fill-color);\n",
              "      border-bottom-color: var(--fill-color);\n",
              "    }\n",
              "    90% {\n",
              "      border-color: transparent;\n",
              "      border-bottom-color: var(--fill-color);\n",
              "    }\n",
              "  }\n",
              "</style>\n",
              "\n",
              "  <script>\n",
              "    async function quickchart(key) {\n",
              "      const quickchartButtonEl =\n",
              "        document.querySelector('#' + key + ' button');\n",
              "      quickchartButtonEl.disabled = true;  // To prevent multiple clicks.\n",
              "      quickchartButtonEl.classList.add('colab-df-spinner');\n",
              "      try {\n",
              "        const charts = await google.colab.kernel.invokeFunction(\n",
              "            'suggestCharts', [key], {});\n",
              "      } catch (error) {\n",
              "        console.error('Error during call to suggestCharts:', error);\n",
              "      }\n",
              "      quickchartButtonEl.classList.remove('colab-df-spinner');\n",
              "      quickchartButtonEl.classList.add('colab-df-quickchart-complete');\n",
              "    }\n",
              "    (() => {\n",
              "      let quickchartButtonEl =\n",
              "        document.querySelector('#df-0fb65e1e-2883-4865-b2c1-d227cd69f4c3 button');\n",
              "      quickchartButtonEl.style.display =\n",
              "        google.colab.kernel.accessAllowed ? 'block' : 'none';\n",
              "    })();\n",
              "  </script>\n",
              "</div>\n",
              "\n",
              "    </div>\n",
              "  </div>\n"
            ]
          },
          "metadata": {},
          "execution_count": 9
        }
      ]
    },
    {
      "cell_type": "code",
      "source": [
        "#Dimenshions\n",
        "df.ndim"
      ],
      "metadata": {
        "colab": {
          "base_uri": "https://localhost:8080/",
          "height": 0
        },
        "id": "edgm-XFBf-Ok",
        "outputId": "33e615e0-ea8e-45e7-8025-d38b9bfcae2a"
      },
      "execution_count": 10,
      "outputs": [
        {
          "output_type": "execute_result",
          "data": {
            "text/plain": [
              "2"
            ]
          },
          "metadata": {},
          "execution_count": 10
        }
      ]
    },
    {
      "cell_type": "code",
      "source": [
        "#Finding number NULL values in dataset\n",
        "df.isnull().sum()"
      ],
      "metadata": {
        "colab": {
          "base_uri": "https://localhost:8080/",
          "height": 0
        },
        "id": "35-j9XATgDFo",
        "outputId": "232e7a09-5efe-4a1f-c1c3-f00291fa6b8a"
      },
      "execution_count": 11,
      "outputs": [
        {
          "output_type": "execute_result",
          "data": {
            "text/plain": [
              "Entertainer                                      0\n",
              "Gender (traditional)                             0\n",
              "Birth Year                                       0\n",
              "Year of Breakthrough/#1 Hit/Award Nomination     0\n",
              "Breakthrough Name                                0\n",
              "Year of First Oscar/Grammy/Emmy                  6\n",
              "Year of Last Major Work (arguable)               0\n",
              "Year of Death                                   40\n",
              "dtype: int64"
            ]
          },
          "metadata": {},
          "execution_count": 11
        }
      ]
    }
  ]
}